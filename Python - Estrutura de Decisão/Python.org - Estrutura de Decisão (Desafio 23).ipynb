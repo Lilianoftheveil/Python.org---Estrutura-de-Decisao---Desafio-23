{
 "cells": [
  {
   "cell_type": "code",
   "execution_count": null,
   "id": "f704985c",
   "metadata": {},
   "outputs": [],
   "source": [
    "Python - Lista de Exercícios (Estrutura de Decisão) \n",
    "link: https://wiki.python.org.br/EstruturaDeDecisao"
   ]
  },
  {
   "cell_type": "markdown",
   "id": "0788cfd9",
   "metadata": {},
   "source": [
    "23) Faça um Programa que peça um número e informe se o número é inteiro ou decimal."
   ]
  },
  {
   "cell_type": "code",
   "execution_count": null,
   "id": "6d7cf684",
   "metadata": {},
   "outputs": [],
   "source": [
    "Obs.: Visando desenvolver o programa de forma mais dinâmica e menos suscetível a erros, adicionei \n",
    "outras estruturas no corpo do código. De modo que apenas números sejam aceitos\n",
    "durante sua execução."
   ]
  },
  {
   "cell_type": "code",
   "execution_count": null,
   "id": "eb6d47b6",
   "metadata": {},
   "outputs": [],
   "source": [
    "while True:\n",
    "  x = input(\"Digite um número: \")\n",
    "  try:\n",
    "    float(x)\n",
    "    break \n",
    "  except:\n",
    "    print(\"Por favor, digite apenas números.\")\n",
    "    continue\n",
    "    \n",
    "x = float(x)\n",
    "if x % 1 == 0:\n",
    "  print(\"O número digitado é um número Inteiro.\")\n",
    "else:\n",
    "  print(\"O número digitado é um número Decimal.\")"
   ]
  }
 ],
 "metadata": {
  "kernelspec": {
   "display_name": "Python 3 (ipykernel)",
   "language": "python",
   "name": "python3"
  },
  "language_info": {
   "codemirror_mode": {
    "name": "ipython",
    "version": 3
   },
   "file_extension": ".py",
   "mimetype": "text/x-python",
   "name": "python",
   "nbconvert_exporter": "python",
   "pygments_lexer": "ipython3",
   "version": "3.8.10"
  }
 },
 "nbformat": 4,
 "nbformat_minor": 5
}
